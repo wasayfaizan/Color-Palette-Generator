{
 "cells": [
  {
   "cell_type": "code",
   "execution_count": 1,
   "id": "f141dd34-e7a4-4339-b441-b9696ec28161",
   "metadata": {},
   "outputs": [],
   "source": [
    "import openai"
   ]
  },
  {
   "cell_type": "code",
   "execution_count": 2,
   "id": "ec1cfdcb-56ca-4638-848c-9972be6c968e",
   "metadata": {},
   "outputs": [],
   "source": [
    "from dotenv import dotenv_values"
   ]
  },
  {
   "cell_type": "code",
   "execution_count": 3,
   "id": "7a0b5cc1-28e0-4d7c-9036-c9e65fa560aa",
   "metadata": {},
   "outputs": [],
   "source": [
    "config = dotenv_values(\".env\")"
   ]
  },
  {
   "cell_type": "code",
   "execution_count": 4,
   "id": "af95110a-cd48-4e52-a9b4-69a1ab506c36",
   "metadata": {},
   "outputs": [],
   "source": [
    "openai.api_key = config[\"OPEN_AI_KEY\"]"
   ]
  },
  {
   "cell_type": "code",
   "execution_count": 12,
   "id": "280da65c-af19-4a67-ba35-c500f35e2284",
   "metadata": {},
   "outputs": [
    {
     "name": "stdout",
     "output_type": "stream",
     "text": [
      "[\n",
      "    \"#FFB74D\",\n",
      "    \"#FF7043\",\n",
      "    \"#E57373\",\n",
      "    \"#F06292\",\n",
      "    \"#BA68C8\",\n",
      "    \"#9575CD\",\n",
      "    \"#4FC3F7\"\n",
      "]\n"
     ]
    }
   ],
   "source": [
    "prompt = \"\"\"\n",
    "You are a color palette generating assistant that responds to text prompts for color palettes\n",
    "You should only generate color palettes that fir the theme, mood, or instructions in the prompt\n",
    "The palette should be between 2 and 8 colors.\n",
    "\n",
    "Q: Convert the following verbal description of a color palette into a list of colors: The Mediterranean Sea \n",
    "A: [\"#006699\", \"#66CCCC\", \"#F0E68C\", \"#008000\", \"#F08080\"]\n",
    "\n",
    "Q: Q: Convert the following verbal description of a color palette into a list of colors: sage, natural, earth\n",
    "A: [\"#EDF1D6\", \"#9DC08B\", \"#609966\", \"#40513B\"]\n",
    "\n",
    "Desired Format: a JSON array of the hexadecimal color codes \n",
    "\n",
    "Text: a beautiful sunset\n",
    "\n",
    "Result:\n",
    "\"\"\"\n",
    "\n",
    "response = openai.ChatCompletion.create(\n",
    "    model=\"gpt-3.5-turbo\",\n",
    "    messages=[\n",
    "        {\"role\": \"user\", \"content\": prompt}\n",
    "    ],\n",
    "    max_tokens=100,\n",
    "    \n",
    ")\n",
    "\n",
    "print(response['choices'][0]['message']['content'])"
   ]
  },
  {
   "cell_type": "code",
   "execution_count": null,
   "id": "d57dc31e-84eb-4490-a7a7-f8224fe06266",
   "metadata": {},
   "outputs": [],
   "source": []
  },
  {
   "cell_type": "code",
   "execution_count": null,
   "id": "6edcae20-45ad-441b-bcb7-3d83273d0d9a",
   "metadata": {},
   "outputs": [],
   "source": []
  }
 ],
 "metadata": {
  "kernelspec": {
   "display_name": "Python 3 (ipykernel)",
   "language": "python",
   "name": "python3"
  },
  "language_info": {
   "codemirror_mode": {
    "name": "ipython",
    "version": 3
   },
   "file_extension": ".py",
   "mimetype": "text/x-python",
   "name": "python",
   "nbconvert_exporter": "python",
   "pygments_lexer": "ipython3",
   "version": "3.11.7"
  }
 },
 "nbformat": 4,
 "nbformat_minor": 5
}
