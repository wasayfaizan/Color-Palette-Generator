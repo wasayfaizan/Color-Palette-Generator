{
 "cells": [
  {
   "cell_type": "code",
   "execution_count": 1,
   "id": "f141dd34-e7a4-4339-b441-b9696ec28161",
   "metadata": {},
   "outputs": [],
   "source": [
    "import openai"
   ]
  },
  {
   "cell_type": "code",
   "execution_count": 2,
   "id": "ec1cfdcb-56ca-4638-848c-9972be6c968e",
   "metadata": {},
   "outputs": [],
   "source": [
    "from dotenv import dotenv_values"
   ]
  },
  {
   "cell_type": "code",
   "execution_count": 3,
   "id": "7a0b5cc1-28e0-4d7c-9036-c9e65fa560aa",
   "metadata": {},
   "outputs": [],
   "source": [
    "config = dotenv_values(\".env\")"
   ]
  },
  {
   "cell_type": "code",
   "execution_count": 4,
   "id": "af95110a-cd48-4e52-a9b4-69a1ab506c36",
   "metadata": {},
   "outputs": [],
   "source": [
    "openai.api_key = config[\"OPEN_AI_KEY\"]"
   ]
  },
  {
   "cell_type": "code",
   "execution_count": 19,
   "id": "280da65c-af19-4a67-ba35-c500f35e2284",
   "metadata": {},
   "outputs": [
    {
     "name": "stdout",
     "output_type": "stream",
     "text": [
      "[\"#FF7F50\", \"#FFD700\", \"#FF6347\", \"#FF4500\", \"#FF8C00\"]\n"
     ]
    }
   ],
   "source": [
    "prompt = \"\"\"\n",
    "You are a color palette generating assistant that responds to text prompts for color palettes\n",
    "You should only generate color palettes that fir the theme, mood, or instructions in the prompt\n",
    "The palette should be between 2 and 8 colors.\n",
    "\n",
    "Q: Convert the following verbal description of a color palette into a list of colors: The Mediterranean Sea \n",
    "A: [\"#006699\", \"#66CCCC\", \"#F0E68C\", \"#008000\", \"#F08080\"]\n",
    "\n",
    "Q: Q: Convert the following verbal description of a color palette into a list of colors: sage, nature, earth\n",
    "A: [\"#EDF1D6\", \"#9DC08B\", \"#609966\", \"#40513B\"]\n",
    "\n",
    "Desired Format: a JSON array of the hexadecimal color codes \n",
    "\n",
    "Text: a beautiful sunset\n",
    "\n",
    "Result:\n",
    "\"\"\"\n",
    "\n",
    "colors = openai.ChatCompletion.create(\n",
    "    model=\"gpt-3.5-turbo\",\n",
    "    messages=[\n",
    "        {\"role\": \"user\", \"content\": prompt}\n",
    "    ],\n",
    "    max_tokens=100,\n",
    "    \n",
    ")\n",
    "\n",
    "print(response['choices'][0]['message']['content'])"
   ]
  },
  {
   "cell_type": "code",
   "execution_count": 20,
   "id": "d57dc31e-84eb-4490-a7a7-f8224fe06266",
   "metadata": {},
   "outputs": [
    {
     "ename": "NameError",
     "evalue": "name 'color' is not defined",
     "output_type": "error",
     "traceback": [
      "\u001b[0;31m---------------------------------------------------------------------------\u001b[0m",
      "\u001b[0;31mNameError\u001b[0m                                 Traceback (most recent call last)",
      "Cell \u001b[0;32mIn[20], line 6\u001b[0m\n\u001b[1;32m      3\u001b[0m \u001b[38;5;28;01mdef\u001b[39;00m \u001b[38;5;21mdisplay_colors\u001b[39m(colors):\n\u001b[1;32m      4\u001b[0m     display(Markdown(\u001b[38;5;124mf\u001b[39m\u001b[38;5;124m\"\u001b[39m\u001b[38;5;124m<span style=\u001b[39m\u001b[38;5;124m'\u001b[39m\u001b[38;5;124mcolor: \u001b[39m\u001b[38;5;132;01m{\u001b[39;00mcolor\u001b[38;5;132;01m}\u001b[39;00m\u001b[38;5;124m'\u001b[39m\u001b[38;5;124m>\u001b[39m\u001b[38;5;132;01m{\u001b[39;00m\u001b[38;5;28mchr\u001b[39m(\u001b[38;5;241m9608\u001b[39m)\u001b[38;5;132;01m}\u001b[39;00m\u001b[38;5;124m</span>\u001b[39m\u001b[38;5;124m\"\u001b[39m))\n\u001b[0;32m----> 6\u001b[0m display_colors([\u001b[38;5;124m\"\u001b[39m\u001b[38;5;124m#FF7F50\u001b[39m\u001b[38;5;124m\"\u001b[39m, \u001b[38;5;124m\"\u001b[39m\u001b[38;5;124m#FFD700\u001b[39m\u001b[38;5;124m\"\u001b[39m, \u001b[38;5;124m\"\u001b[39m\u001b[38;5;124m#FF6347\u001b[39m\u001b[38;5;124m\"\u001b[39m, \u001b[38;5;124m\"\u001b[39m\u001b[38;5;124m#FF4500\u001b[39m\u001b[38;5;124m\"\u001b[39m, \u001b[38;5;124m\"\u001b[39m\u001b[38;5;124m#FF8C00\u001b[39m\u001b[38;5;124m\"\u001b[39m])\n",
      "Cell \u001b[0;32mIn[20], line 4\u001b[0m, in \u001b[0;36mdisplay_colors\u001b[0;34m(colors)\u001b[0m\n\u001b[1;32m      3\u001b[0m \u001b[38;5;28;01mdef\u001b[39;00m \u001b[38;5;21mdisplay_colors\u001b[39m(colors):\n\u001b[0;32m----> 4\u001b[0m     display(Markdown(\u001b[38;5;124mf\u001b[39m\u001b[38;5;124m\"\u001b[39m\u001b[38;5;124m<span style=\u001b[39m\u001b[38;5;124m'\u001b[39m\u001b[38;5;124mcolor: \u001b[39m\u001b[38;5;132;01m{\u001b[39;00mcolor\u001b[38;5;132;01m}\u001b[39;00m\u001b[38;5;124m'\u001b[39m\u001b[38;5;124m>\u001b[39m\u001b[38;5;132;01m{\u001b[39;00m\u001b[38;5;28mchr\u001b[39m(\u001b[38;5;241m9608\u001b[39m)\u001b[38;5;132;01m}\u001b[39;00m\u001b[38;5;124m</span>\u001b[39m\u001b[38;5;124m\"\u001b[39m))\n",
      "\u001b[0;31mNameError\u001b[0m: name 'color' is not defined"
     ]
    }
   ],
   "source": [
    "from IPython.display import Markdown, display\n",
    "\n",
    "def display_colors(colors):\n",
    "    display(Markdown(f\"<span style='color: {color}'>{chr(9608)}</span>\"))\n",
    "\n",
    "display_colors([\"#FF7F50\", \"#FFD700\", \"#FF6347\", \"#FF4500\", \"#FF8C00\"])"
   ]
  },
  {
   "cell_type": "code",
   "execution_count": null,
   "id": "77b8a1cf-a405-4d24-9d64-c1761ee0503d",
   "metadata": {},
   "outputs": [],
   "source": []
  },
  {
   "cell_type": "code",
   "execution_count": null,
   "id": "01802cec-1411-424d-a8a7-efbae36682ca",
   "metadata": {},
   "outputs": [],
   "source": []
  },
  {
   "cell_type": "code",
   "execution_count": null,
   "id": "ebf75cba-0594-436f-b5a7-e6167f6986f8",
   "metadata": {},
   "outputs": [],
   "source": []
  },
  {
   "cell_type": "code",
   "execution_count": null,
   "id": "6edcae20-45ad-441b-bcb7-3d83273d0d9a",
   "metadata": {},
   "outputs": [],
   "source": []
  }
 ],
 "metadata": {
  "kernelspec": {
   "display_name": "Python 3 (ipykernel)",
   "language": "python",
   "name": "python3"
  },
  "language_info": {
   "codemirror_mode": {
    "name": "ipython",
    "version": 3
   },
   "file_extension": ".py",
   "mimetype": "text/x-python",
   "name": "python",
   "nbconvert_exporter": "python",
   "pygments_lexer": "ipython3",
   "version": "3.11.7"
  }
 },
 "nbformat": 4,
 "nbformat_minor": 5
}
